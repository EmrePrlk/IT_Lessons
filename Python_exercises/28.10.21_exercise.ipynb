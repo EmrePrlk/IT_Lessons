{
 "cells": [
  {
   "cell_type": "code",
   "execution_count": 1,
   "metadata": {},
   "outputs": [
    {
     "name": "stdout",
     "output_type": "stream",
     "text": [
      "('a', 'l', 'p', 's')\n"
     ]
    }
   ],
   "source": [
    "mountain = tuple('alps')\n",
    "print(mountain)"
   ]
  },
  {
   "cell_type": "code",
   "execution_count": 15,
   "metadata": {},
   "outputs": [
    {
     "name": "stdout",
     "output_type": "stream",
     "text": [
      "[10, 9, 8, 7, 6, 5, 4, 3, 2, 1]\n"
     ]
    }
   ],
   "source": [
    "my_list = list(range(1,11))\n",
    "my_list.sort(reverse=True)\n",
    "print(my_list)"
   ]
  },
  {
   "cell_type": "code",
   "execution_count": 24,
   "metadata": {},
   "outputs": [
    {
     "name": "stdout",
     "output_type": "stream",
     "text": [
      "['eggplant', 'spinach', 'leek']\n"
     ]
    }
   ],
   "source": [
    "grocer = [\"banana\", [\"orange\", [\"apple\", \"eggplant\", \"melon\", \"spinach\", \"cheese\", \"leek\" ], \"water\"], \"mandarin\"]\n",
    "print(grocer[1][1][1::2])"
   ]
  },
  {
   "cell_type": "code",
   "execution_count": 11,
   "metadata": {},
   "outputs": [
    {
     "name": "stdout",
     "output_type": "stream",
     "text": [
      "My two favorite flowers are tulip and rose, two favorite colors are blue and green.\n"
     ]
    }
   ],
   "source": [
    "flowers = [[\"jasmine\", [\"lavender\", \"rose\"], \"tulip\"]]\n",
    "colors = [\"red\", (\"blue\", [\"yellow\", \"green\"]), \"pink\"]\n",
    "var1 = flowers[0][2]\n",
    "var2 = flowers[0][1][1]\n",
    "var3 = colors[1][0]\n",
    "var4 = colors[1][1][1]\n",
    "print(\"My two favorite flowers are {} and {}, two favorite colors are {} and {}.\".format(var1, var2, var3, var4))\n",
    "\n"
   ]
  },
  {
   "cell_type": "code",
   "execution_count": null,
   "metadata": {},
   "outputs": [],
   "source": []
  },
  {
   "cell_type": "code",
   "execution_count": 12,
   "metadata": {},
   "outputs": [
    {
     "name": "stdout",
     "output_type": "stream",
     "text": [
      "0\n",
      "['ab', 'ef', 'gh', '']\n"
     ]
    }
   ],
   "source": [
    "print(\"xyyzxyzxzxyy\".count('xyy', 2, 11))\n",
    "print('abcdefcdghcd'.split('cd'))"
   ]
  },
  {
   "cell_type": "code",
   "execution_count": 17,
   "metadata": {},
   "outputs": [
    {
     "name": "stdout",
     "output_type": "stream",
     "text": [
      "içeri girebilirsiniz\n"
     ]
    }
   ],
   "source": [
    "yaş = int(input(\"Yaşınızı Giriniz :\"))\n",
    "Soru = input(\"Tek Başına mısınız? :\")\n",
    "ikinci = round(float(input(\"Yanınızdaki kişi kaç yaşında? .\")))\n",
    "if yaş >= 18 :\n",
    "    if Soru == \"hayır\" :\n",
    "        if ikinci >=18 :\n",
    "            print(\"içeri girebilirsiniz\")\n",
    "        else :\n",
    "            print(\"içeri giremezsiniz\")\n",
    "    else :\n",
    "        print(\"içeri giremezsiniz\")\n",
    "else :\n",
    "    print(\"içeri giremezsiniz.\")"
   ]
  },
  {
   "cell_type": "code",
   "execution_count": 6,
   "metadata": {},
   "outputs": [
    {
     "name": "stdout",
     "output_type": "stream",
     "text": [
      "%25 prim almaya hak kazandınız\n"
     ]
    }
   ],
   "source": [
    "satış_miktarı = int(input(\"Aylık satış adedinizi giriniz :\"))\n",
    "\n",
    "if 0 < satış_miktarı <= 100 :\n",
    "    print(\"prim almaya hak kazanamadınız.\")\n",
    "elif 101 < satış_miktarı < 150 :\n",
    "    print(\"%10 prim kazandınız\")\n",
    "else :\n",
    "    print(\"%25 prim almaya hak kazandınız\")"
   ]
  },
  {
   "cell_type": "code",
   "execution_count": 12,
   "metadata": {},
   "outputs": [
    {
     "name": "stdout",
     "output_type": "stream",
     "text": [
      "Welcome to my greengrocer\n",
      "the amount you have to pay is  140\n"
     ]
    }
   ],
   "source": [
    "print('Welcome to my greengrocer')\n",
    "fruit = input('Which fruit do you want?: ').strip()\n",
    "kg = int(input('How much kg do you want fruit?: '))\n",
    "\n",
    "if fruit == 'cherry':\n",
    "  amount = kg*10\n",
    "  print('the amount you have to pay is ',amount)\n",
    "elif fruit =='fig':\n",
    "  amount = kg*12\n",
    "  print('the amount you have to pay is',amount)\n",
    "elif fruit =='strawberry':\n",
    "  amount = kg*6\n",
    "  print('the amount you have to pay is',amount)\n",
    "else:\n",
    "  print('we dont have like this fruit')\n"
   ]
  },
  {
   "cell_type": "code",
   "execution_count": 4,
   "metadata": {},
   "outputs": [
    {
     "name": "stdout",
     "output_type": "stream",
     "text": [
      "asd ehliyet alabilirsiniz\n"
     ]
    }
   ],
   "source": [
    "isim = input(\"isminizi giriniz :\")\n",
    "yaş = int(input(\"yaşınızı giriniz :\"))\n",
    "eğitim = input(\"eğitim durumunuzu giriniz :\")\n",
    "if yaş >= 18 :\n",
    "    if eğitim == \"lise\" or eğitim == \"üniversite\" :\n",
    "        print(\"{} ehliyet alabilirsiniz\".format(isim))\n",
    "    else :\n",
    "        print(\"{} eğitim şartını karşılayamadınız, ehliyet alamazsınız.\".format(isim))\n",
    "else :\n",
    "    print (\"{} yaşınız ehliyet almaya uygun değildir.\".format(isim))"
   ]
  },
  {
   "cell_type": "code",
   "execution_count": 21,
   "metadata": {},
   "outputs": [
    {
     "name": "stdout",
     "output_type": "stream",
     "text": [
      "ortalamanız 66.66666666666667 , notunuz : 3\n"
     ]
    }
   ],
   "source": [
    "yazılı1 = float(input(\"1. yazılı: \"))\n",
    "yazılı2 = float(input(\"2. yazılı : \"))\n",
    "sözlü = float(input(\"sözlü : \"))\n",
    "\n",
    "ortalama = (yazılı1 + yazılı2 + sözlü) / 3\n",
    "\n",
    "if 0 <= ortalama < 25 :\n",
    "    print(\"ortalamanız {} , notunuz : 0\".format(ortalama))\n",
    "elif 25 <= ortalama < 45 :\n",
    "    print(\"ortalamanız {} , notunuz : 1\".format(ortalama))\n",
    "elif 45 <= ortalama < 55 :\n",
    "    print(\"ortalamanız {} , notunuz : 2\".format(ortalama))\n",
    "elif 55 <= ortalama < 70 :\n",
    "    print(\"ortalamanız {} , notunuz : 3\".format(ortalama))\n",
    "elif 70 <= ortalama < 85 :\n",
    "    print(\"ortalamanız {} , notunuz : 4\".format(ortalama))\n",
    "elif 85 <= ortalama < 100 :\n",
    "    print(\"ortalamanız {} , notunuz : 5\".format(ortalama))\n",
    "else :\n",
    "    print(\"yanlış bilgi girdiniz.\")"
   ]
  },
  {
   "cell_type": "code",
   "execution_count": null,
   "metadata": {},
   "outputs": [],
   "source": []
  },
  {
   "cell_type": "code",
   "execution_count": null,
   "metadata": {},
   "outputs": [],
   "source": [
    "\n",
    "\n"
   ]
  }
 ],
 "metadata": {
  "interpreter": {
   "hash": "183bbf6827d058c2a2fb0f4acdc0420849dda2b4380af0e437e38c64d798d8b7"
  },
  "kernelspec": {
   "display_name": "Python 3.8.8 64-bit ('base': conda)",
   "name": "python3"
  },
  "language_info": {
   "codemirror_mode": {
    "name": "ipython",
    "version": 3
   },
   "file_extension": ".py",
   "mimetype": "text/x-python",
   "name": "python",
   "nbconvert_exporter": "python",
   "pygments_lexer": "ipython3",
   "version": "3.8.8"
  },
  "orig_nbformat": 4
 },
 "nbformat": 4,
 "nbformat_minor": 2
}
