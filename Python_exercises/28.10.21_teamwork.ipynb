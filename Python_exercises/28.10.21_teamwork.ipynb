{
 "cells": [
  {
   "cell_type": "code",
   "execution_count": 17,
   "metadata": {},
   "outputs": [
    {
     "data": {
      "text/plain": [
       "'m rh b '"
      ]
     },
     "execution_count": 17,
     "metadata": {},
     "output_type": "execute_result"
    }
   ],
   "source": [
    "def disemvowel(string_):\n",
    "    vowels = ['a', 'e', 'i', 'o', 'u', \"A\", \"E\", \"I\", \"O\", \"U\"]\n",
    "    for i in string_:\n",
    "        if i in vowels:\n",
    "            string_ = string_.replace(i, \" \")\n",
    "        elif ValueError:\n",
    "            continue\n",
    "    return string_\n",
    "string_ = str(input(\"giriniz\"))\n",
    "disemvowel(string_)"
   ]
  },
  {
   "cell_type": "code",
   "execution_count": 31,
   "metadata": {},
   "outputs": [
    {
     "name": "stdout",
     "output_type": "stream",
     "text": [
      "colors =  ['s', 'e', 'a', 'x', 'q', 'z', 'r', 'w', 'd', 'c']\n",
      "color counts =  [4, 3, 5, 2, 3, 2, 2, 3, 2, 1]\n",
      "pair of socks =  [2, 1, 2, 1, 1, 1, 1, 1, 1, 0]\n"
     ]
    }
   ],
   "source": [
    "socks = [\"a\", \"a\", \"s\", \"s\", \"a\", \"w\", \"q\", \"w\", \"q\", \"e\", \"e\", \"q\", \"w\", \"s\", \"d\", \"a\", \"z\", \"z\", \"x\", \"s\", \"x\", \"c\", \"d\", \"a\", \"e\", \"r\", \"r\"]\n",
    "\n",
    "colors = []\n",
    "for i in set(socks):\n",
    "    colors.append(i)\n",
    "print(\"colors = \", colors)\n",
    "\n",
    "color_count = []\n",
    "\n",
    "for i in colors:\n",
    "    color_count.append(socks.count(i))\n",
    "\n",
    "print(\"color counts = \", color_count)\n",
    "\n",
    "pair = []\n",
    "for j in color_count :\n",
    "    pair.append(j//2)\n",
    "\n",
    "print(\"pair of socks = \", pair)"
   ]
  },
  {
   "cell_type": "code",
   "execution_count": 35,
   "metadata": {},
   "outputs": [
    {
     "name": "stdout",
     "output_type": "stream",
     "text": [
      "[10, 9, 8, 7, 6, 5, 4, 3, 2, 1]\n"
     ]
    }
   ],
   "source": [
    "list_a = []\n",
    "for i in range(10, 0, -1) :\n",
    "    list_a.append(i)\n",
    "\n",
    "print(list_a)"
   ]
  },
  {
   "cell_type": "code",
   "execution_count": 39,
   "metadata": {},
   "outputs": [
    {
     "name": "stdout",
     "output_type": "stream",
     "text": [
      "7\n"
     ]
    }
   ],
   "source": [
    "socks = list(map(int, input(\"\").split()))\n",
    "socks_dict = {}\n",
    "for i in set(socks) :\n",
    "  socks_dict[i] = socks.count(i)\n",
    "\n",
    "pairs = 0\n",
    "for j in socks_dict.values() :\n",
    "  pairs += j // 2\n",
    "print(pairs)\n"
   ]
  },
  {
   "cell_type": "code",
   "execution_count": 66,
   "metadata": {},
   "outputs": [
    {
     "name": "stdout",
     "output_type": "stream",
     "text": [
      "46 tüm sayılardan büyük değildir\n",
      "46 tüm sayılardan büyüktür\n"
     ]
    }
   ],
   "source": [
    "liste = [3, 5, 7, 35, 76, 9, 6, 13]\n",
    "sayı = int(input(\"birsayı giriniz\"))\n",
    "for i in liste :\n",
    "    if i > sayı :\n",
    "        print(sayı, \"tüm sayılardan büyük değildir\")\n",
    "\n",
    "else :\n",
    "    print(sayı, \"tüm sayılardan büyüktür\")"
   ]
  },
  {
   "cell_type": "code",
   "execution_count": 68,
   "metadata": {},
   "outputs": [
    {
     "name": "stdout",
     "output_type": "stream",
     "text": [
      "[1, 2, 3, 4, 5, 6, 7, 8, 9]\n"
     ]
    }
   ],
   "source": [
    "liste = []\n",
    "for i in range(1,10):\n",
    "    liste += [i]\n",
    "print(liste)"
   ]
  },
  {
   "cell_type": "code",
   "execution_count": 70,
   "metadata": {},
   "outputs": [
    {
     "data": {
      "text/plain": [
       "[2, 4, 6, 8]"
      ]
     },
     "execution_count": 70,
     "metadata": {},
     "output_type": "execute_result"
    }
   ],
   "source": [
    "[i for i in range(1,10) if i % 2 == 0] #üst kolondaki dört satırda yazılan kodu tek satıra indişrdi\n"
   ]
  },
  {
   "cell_type": "code",
   "execution_count": 75,
   "metadata": {},
   "outputs": [
    {
     "data": {
      "text/plain": [
       "12"
      ]
     },
     "execution_count": 75,
     "metadata": {},
     "output_type": "execute_result"
    }
   ],
   "source": [
    "num = input(\"\")\n",
    "liste = int(num) % sum([int(i) for i in num])\n",
    "liste"
   ]
  },
  {
   "cell_type": "code",
   "execution_count": null,
   "metadata": {},
   "outputs": [],
   "source": []
  }
 ],
 "metadata": {
  "interpreter": {
   "hash": "183bbf6827d058c2a2fb0f4acdc0420849dda2b4380af0e437e38c64d798d8b7"
  },
  "kernelspec": {
   "display_name": "Python 3.8.8 64-bit ('base': conda)",
   "name": "python3"
  },
  "language_info": {
   "codemirror_mode": {
    "name": "ipython",
    "version": 3
   },
   "file_extension": ".py",
   "mimetype": "text/x-python",
   "name": "python",
   "nbconvert_exporter": "python",
   "pygments_lexer": "ipython3",
   "version": "3.8.8"
  },
  "orig_nbformat": 4
 },
 "nbformat": 4,
 "nbformat_minor": 2
}
